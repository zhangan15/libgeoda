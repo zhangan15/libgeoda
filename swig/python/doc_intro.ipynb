{
 "cells": [
  {
   "cell_type": "code",
   "execution_count": null,
   "metadata": {
    "pycharm": {
     "name": "#%%\n"
    }
   },
   "outputs": [],
   "source": []
  },
  {
   "cell_type": "markdown",
   "metadata": {},
   "source": [
    "# Introduction to pyGeoDa\n",
    "\n",
    "pyGeoDa is a python library for spatial data analysis. It is a python wrapper\n",
    "of the libgeoda library, which is a C++ library based on GeoDa software.\n",
    "\n",
    "## 1. Install pygeoda\n",
    "\n",
    "Like GeoDa desktop software, `pygeoda` will be avaiable to all platforms including: Mac, Linux and Windows. \n",
    "In current development stage, only Mac OSX version `pygeoda` is avaiable to be installed using `pip`.\n",
    "\n",
    "> Note: check pip page `pygeoda 0.1` at: https://pypi.org/project/pygeoda/\n",
    "\n",
    "\n",
    "### 1.1 Install using pip\n",
    "\n",
    "You can use `pip` to install pygeoda 0.1 on Mac OSX 10.14 (Majave):\n",
    "```Python\n",
    "pip install pygeoda\n",
    "```\n",
    "> Note: There is no dependencies of `pygeoda`.\n",
    "\n",
    "### 1.2 Install from source\n",
    "\n",
    "You can also download the source code from: http://github.com/lixun910/libgeoda.\n",
    "The `pygeoda` is located at swig/Python directory. You need to compile the \n",
    "libgeoda library first, and then build `pygeoda` using the shell script `build.sh`.\n",
    "\n",
    "## 2. Using pygeoda\n",
    "\n",
    "Using pygeoda is easy and straight forward. There is only one main entry: \n",
    "the `GeoDa` class, which can be imported from `pygeoda` package:"
   ]
  },
  {
   "cell_type": "code",
   "execution_count": 1,
   "metadata": {
    "pycharm": {
     "is_executing": false
    }
   },
   "outputs": [],
   "source": [
    "from pygeoda import GeoDa"
   ]
  },
  {
   "cell_type": "markdown",
   "metadata": {},
   "source": [
    "### 2.1 Load Spatial Data\n",
    "There are two ways to construct a GeoDa object: \n",
    "the first one is passing the path of the spatial data as an argument, so that\n",
    "`pygeoda` will read spatial data to construct an instance; the second one\n",
    "is creating a GeoDa object from a `geopandas` object. \n",
    "\n",
    "The former method is focused in this tutorial; the latter method will be \n",
    "explained in next tutorial.\n",
    "\n",
    "The data formats that pygeoda can read directly:\n",
    "```\n",
    "  ESRI Shapefile -vector- (rw+v): ESRI Shapefile\n",
    "  MapInfo File -vector- (rw+v): MapInfo File\n",
    "  CSV -vector- (rw+v): Comma Separated Value (.csv)\n",
    "  GML -vector- (rw+v): Geography Markup Language (GML)\n",
    "  GPX -vector- (rw+v): GPX\n",
    "  KML -vector- (rw+v): Keyhole Markup Language (KML)\n",
    "  GeoJSON -vector- (rw+v): GeoJSON\n",
    "  TopoJSON -vector- (rov): TopoJSON\n",
    "  OpenFileGDB -vector- (rov): ESRI FileGDB\n",
    "  GFT -vector- (rw+): Google Fusion Tables\n",
    "  CouchDB -vector- (rw+): CouchDB / GeoCouch\n",
    "  Carto -vector- (rw+): Carto\n",
    "```\n",
    "For example, you can use the path of a ESRI shapefile to create a \n",
    "`GeoDa` instance:\n"
   ]
  },
  {
   "cell_type": "code",
   "execution_count": 3,
   "metadata": {
    "pycharm": {
     "is_executing": false
    }
   },
   "outputs": [],
   "source": [
    "gda = GeoDa(\"/Users/xunli/github/libgeoda/data/natregimes.shp\")"
   ]
  },
  {
   "cell_type": "markdown",
   "metadata": {},
   "source": [
    "With the instance of `GeoDa`, you can call different functions provided\n",
    "by `libgeoda`. For example, to check the meta data of the loaded spatial\n",
    "data:"
   ]
  },
  {
   "cell_type": "code",
   "execution_count": 5,
   "metadata": {
    "pycharm": {
     "is_executing": false,
     "name": "#%%\n"
    }
   },
   "outputs": [],
   "source": [
    "n_col = gda.GetNumCols()\n",
    "n_obs = gda.GetNumObs()\n",
    "field_names = gda.GetFieldNames()\n",
    "field_types = gda.GetFieldTypes()"
   ]
  },
  {
   "cell_type": "markdown",
   "metadata": {},
   "source": [
    "### 2.2 Access Table Data\n",
    "Using function GetNumericCol(string col_name) to get \n",
    "numeric data (tuple) from column “HR60”:"
   ]
  },
  {
   "cell_type": "code",
   "execution_count": 19,
   "metadata": {
    "pycharm": {
     "is_executing": false,
     "name": "#%%\n"
    }
   },
   "outputs": [],
   "source": [
    "hr60 = gda.GetNumericCol(\"HR60\")"
   ]
  },
  {
   "cell_type": "markdown",
   "metadata": {},
   "source": [
    "### 2.3 Spatial Weights\n",
    "Using function CreateContiguityWeights(string poly_id=\"\", int order=1, bool include_lower_order=false) \n",
    "to create a Queen contiguity weights:\n"
   ]
  },
  {
   "cell_type": "code",
   "execution_count": 8,
   "metadata": {
    "pycharm": {
     "is_executing": false,
     "name": "#%%\n"
    }
   },
   "outputs": [],
   "source": [
    "queen_w = gda.CreateContiguityWeights()"
   ]
  },
  {
   "cell_type": "markdown",
   "metadata": {
    "pycharm": {
     "name": "#%% md\n"
    }
   },
   "source": [
    "The function `CreateContiguityWeights` returns an instance of \n",
    "`GeoDaWeight` object. One can access the meta data of the spatial\n",
    "weights by accessing the attributes of `GeoDaWeight` object:"
   ]
  },
  {
   "cell_type": "code",
   "execution_count": 10,
   "metadata": {
    "pycharm": {
     "is_executing": false,
     "name": "#%%\n"
    }
   },
   "outputs": [
    {
     "data": {
      "text/plain": [
       "5.889141004862236"
      ]
     },
     "execution_count": 10,
     "metadata": {},
     "output_type": "execute_result"
    }
   ],
   "source": [
    "queen_w.is_symmetric\n",
    "queen_w.sparsity\n",
    "queen_w.density\n",
    "queen_w.min_nbrs\n",
    "queen_w.max_nbrs\n",
    "queen_w.mean_nbrs"
   ]
  },
  {
   "cell_type": "markdown",
   "metadata": {},
   "source": [
    "### 2.4 Spatial Data Analysis\n",
    "#### 2.4.1 Local Spatial Autocorrelation\n",
    "Using the created Queen weights and the data “HR60”,\n",
    " we can call function LISA(GeoDaWeight w, tuple data) to compute the \n",
    " local spatial autocorrelation of variable “HR60”. We can access the \n",
    " LISA results by calling the “getter” methods of the returned LISA object."
   ]
  },
  {
   "cell_type": "code",
   "execution_count": 12,
   "metadata": {
    "pycharm": {
     "is_executing": false,
     "name": "#%%\n"
    }
   },
   "outputs": [],
   "source": [
    "lisa = gda.LISA(queen_w, hr60)"
   ]
  },
  {
   "cell_type": "markdown",
   "metadata": {},
   "source": [
    "get local Moran values:\n"
   ]
  },
  {
   "cell_type": "code",
   "execution_count": 13,
   "metadata": {
    "pycharm": {
     "is_executing": false,
     "name": "#%%\n"
    }
   },
   "outputs": [
    {
     "name": "stdout",
     "output_type": "stream",
     "text": [
      "(0.5016982232699534, 0.28142804448894865, 0.25742057822288356, 0.14121955625028812, 0.40564764631589617, 0.15979543437294647, -0.2725482532572344, -0.30667659872234604, 0.3610350320931304, -0.7261968015944062, -0.26515905505502047, 0.04716326166243362, 0.4350835574869135, 0.6355608662908028, 0.4288698616676016, 0.40070957852305406, 0.1832140472226757, 0.4969955807089679, 0.5358555431509163, 0.6355608662908028)\n"
     ]
    }
   ],
   "source": [
    "lms = lisa.GetLocalMoranValues()\n",
    "print(lms[:20])"
   ]
  },
  {
   "cell_type": "markdown",
   "metadata": {},
   "source": [
    "get p-values:\n"
   ]
  },
  {
   "cell_type": "code",
   "execution_count": null,
   "metadata": {
    "pycharm": {
     "name": "#%%\n"
    }
   },
   "outputs": [],
   "source": [
    "pvals = lisa.GetLocalSignificanceValues()\n",
    "print(pvals[:20])\n"
   ]
  },
  {
   "cell_type": "markdown",
   "metadata": {},
   "source": [
    "get categories:\n"
   ]
  },
  {
   "cell_type": "code",
   "execution_count": null,
   "metadata": {
    "pycharm": {
     "name": "#%%\n"
    }
   },
   "outputs": [],
   "source": [
    "cats = lisa.GetClusterIndicators()\n",
    "print(cats[:20])\n"
   ]
  },
  {
   "cell_type": "markdown",
   "metadata": {
    "pycharm": {
     "name": "#%% md\n"
    }
   },
   "source": [
    "Re-run the LISA computation by calling Run() function. \n",
    "For example, re-run the above LISA example using 9999 permutations \n",
    "(by default LISA uses 999 permutations):\n"
   ]
  },
  {
   "cell_type": "code",
   "execution_count": 14,
   "metadata": {
    "pycharm": {
     "is_executing": false,
     "name": "#%%\n"
    }
   },
   "outputs": [],
   "source": [
    "lisa.SetNumPermutations(9999)\n",
    "lisa.Run()\n"
   ]
  },
  {
   "cell_type": "markdown",
   "metadata": {
    "pycharm": {
     "name": "#%% md\n"
    }
   },
   "source": [
    "Get the new results after 9999 permutations\n"
   ]
  },
  {
   "cell_type": "code",
   "execution_count": 15,
   "metadata": {
    "pycharm": {
     "is_executing": false,
     "name": "#%%\n"
    }
   },
   "outputs": [
    {
     "name": "stdout",
     "output_type": "stream",
     "text": [
      "(0.0874, 0.2911, 0.0942, 0.1024, 0.1149, 0.4212, 0.1698, 0.0735, 0.243, 0.066, 0.2079, 0.3471, 0.1012, 0.025, 0.0739, 0.1256, 0.0353, 0.0902, 0.018, 0.0075)\n"
     ]
    }
   ],
   "source": [
    "pvals = lisa.GetLocalSignificanceValues()\n",
    "print(pvals[:20])\n"
   ]
  },
  {
   "cell_type": "markdown",
   "metadata": {
    "pycharm": {
     "name": "#%% md\n"
    }
   },
   "source": [
    "pygeoda uses GeoDa’s C++ code, multi-threading is used to accelerate \n",
    "the computation of Local Moran. One can also specify how many threads to run \n",
    "the computation:\n"
   ]
  },
  {
   "cell_type": "code",
   "execution_count": 16,
   "metadata": {
    "pycharm": {
     "is_executing": false,
     "name": "#%%\n"
    }
   },
   "outputs": [],
   "source": [
    "lisa.SetNumThreads(4)\n",
    "lisa.Run()"
   ]
  },
  {
   "cell_type": "markdown",
   "metadata": {},
   "source": [
    "Get the new results after using different number of threads\n",
    " \n"
   ]
  },
  {
   "cell_type": "code",
   "execution_count": 17,
   "metadata": {
    "pycharm": {
     "is_executing": false,
     "name": "#%%\n"
    }
   },
   "outputs": [
    {
     "name": "stdout",
     "output_type": "stream",
     "text": [
      "(0.0874, 0.2911, 0.0942, 0.1024, 0.1149, 0.4212, 0.1698, 0.0735, 0.243, 0.066, 0.2079, 0.3471, 0.1012, 0.025, 0.0739, 0.1256, 0.0353, 0.0902, 0.018, 0.0075)\n"
     ]
    }
   ],
   "source": [
    "pvals = lisa.GetLocalSignificanceValues()\n",
    "print(pvals[:20])"
   ]
  },
  {
   "cell_type": "markdown",
   "metadata": {
    "pycharm": {
     "name": "#%% md\n"
    }
   },
   "source": [
    "### 2.5 Clustering\n",
    "\n",
    "#### 2.5.1 SKATER\n",
    "SKATER is a spatially constrained clustering algorithm. It is one of the\n",
    "clustering algorithm faimly that GeoDa provides for spatial clustering\n",
    "patter analysis.\n",
    "\n",
    "The function is: `SKATER(int k, GeoDaWeight w, tuple column_names, string distance_method='euclidean')` \n"
   ]
  },
  {
   "cell_type": "code",
   "execution_count": 18,
   "metadata": {
    "pycharm": {
     "is_executing": false,
     "name": "#%%\n"
    }
   },
   "outputs": [
    {
     "name": "stdout",
     "output_type": "stream",
     "text": [
      "(1, 1, 1, 1, 1, 1, 1, 1, 1, 1, 1, 1, 1, 1, 1, 1, 1, 1, 1, 1)\n"
     ]
    }
   ],
   "source": [
    "skater = gda.SKATER(10, queen_w, [\"HR60\",\"PO60\"])\n",
    "print(skater[:20])"
   ]
  },
  {
   "cell_type": "markdown",
   "source": [
    "## 3. Plot"
   ],
   "metadata": {
    "collapsed": false,
    "pycharm": {
     "name": "#%% md\n"
    }
   }
  },
  {
   "cell_type": "code",
   "execution_count": 21,
   "outputs": [
    {
     "name": "stdout",
     "text": [
      "geoda_to_geopandas\n"
     ],
     "output_type": "stream"
    },
    {
     "data": {
      "text/plain": "Text(0.5, 1, 'NAT')"
     },
     "metadata": {},
     "output_type": "execute_result",
     "execution_count": 21
    },
    {
     "data": {
      "text/plain": "<Figure size 432x288 with 1 Axes>",
      "image/png": "[encoded data removed]"
     },
     "metadata": {
      "needs_background": "light"
     },
     "output_type": "display_data"
    }
   ],
   "source": [
    "from pygeoda import geoda_to_geopandas\n",
    "gdf = geoda_to_geopandas(gda)\n",
    "gdf['SKATER'] = skater\n",
    "\n",
    "import matplotlib\n",
    "#cmap = matplotlib.colors.LinearSegmentedColormap.from_list('skater', [(0, 'grey'), (1, 'blue'),()])\n",
    "\n",
    "ax = gdf.plot(column='SKATER', categorical=et')\n",
    "ax.set_title(\"NAT\")\n"
   ],
   "metadata": {
    "collapsed": false,
    "pycharm": {
     "name": "#%%\n",
     "is_executing": false
    }
   }
  }
 ],
 "metadata": {
  "kernelspec": {
   "display_name": "Python 3",
   "language": "python",
   "name": "python3"
  },
  "language_info": {
   "codemirror_mode": {
    "name": "ipython",
    "version": 3
   },
   "file_extension": ".py",
   "mimetype": "text/x-python",
   "name": "python",
   "nbconvert_exporter": "python",
   "pygments_lexer": "ipython3",
   "version": "3.7.2"
  },
  "pycharm": {
   "stem_cell": {
    "cell_type": "raw",
    "source": [],
    "metadata": {
     "collapsed": false
    }
   }
  }
 },
 "nbformat": 4,
 "nbformat_minor": 2
}